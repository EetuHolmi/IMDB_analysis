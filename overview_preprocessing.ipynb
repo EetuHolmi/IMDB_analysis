{
 "cells": [
  {
   "cell_type": "code",
   "execution_count": 1,
   "id": "dfd9265c",
   "metadata": {},
   "outputs": [],
   "source": [
    "import pandas as pd\n",
    "import matplotlib.pyplot as plt\n",
    "import numpy as np\n",
    "import nltk\n",
    "\n",
    "from nltk.corpus import stopwords"
   ]
  },
  {
   "cell_type": "code",
   "execution_count": 2,
   "id": "8c798496",
   "metadata": {},
   "outputs": [],
   "source": [
    "stopwords_eng = stopwords.words(\"english\")\n",
    "\n",
    "lemmatizer = nltk.WordNetLemmatizer()"
   ]
  },
  {
   "cell_type": "code",
   "execution_count": 3,
   "id": "910d816f",
   "metadata": {},
   "outputs": [],
   "source": [
    "imdb_data = pd.read_csv(\"imdb_top_1000.csv\")"
   ]
  },
  {
   "cell_type": "code",
   "execution_count": 4,
   "id": "f41fb767",
   "metadata": {},
   "outputs": [],
   "source": [
    "imdb_data[\"Gross\"] = imdb_data[\"Gross\"].apply(lambda x: float(x.replace(\",\", \"\")) if isinstance(x, str) else x)\n",
    "imdb_data[\"Released_Year\"] = pd.to_datetime(imdb_data[\"Released_Year\"], format=\"%Y\", errors=\"coerce\")\n",
    "imdb_data[\"Runtime\"] = imdb_data[\"Runtime\"].apply(lambda x: int(x.split()[0]))\n",
    "imdb_data[\"Genre\"] = imdb_data[\"Genre\"].apply(lambda x: x.split(\", \"))"
   ]
  },
  {
   "cell_type": "markdown",
   "id": "16d7bb0e",
   "metadata": {},
   "source": [
    "### Preprocessing"
   ]
  },
  {
   "cell_type": "code",
   "execution_count": 5,
   "id": "71212611",
   "metadata": {},
   "outputs": [],
   "source": [
    "imdb_data[\"Overview_processed\"] = imdb_data[\"Overview\"].apply(lambda x: x.lower()).apply(nltk.word_tokenize)\n",
    "imdb_data[\"Overview_processed\"] = imdb_data[\"Overview_processed\"].apply(lambda x: [word for word in x if word not in stopwords_eng])\n",
    "imdb_data[\"Overview_processed\"] = imdb_data[\"Overview_processed\"].apply(lambda x: [word for word in x if word.isalnum()])\n",
    "imdb_data[\"Overview_processed\"] = imdb_data[\"Overview_processed\"].apply(lambda x: [word for word in x if not word.isdigit()])\n",
    "imdb_data[\"Overview_processed\"] = imdb_data[\"Overview_processed\"].apply(lambda x: [lemmatizer.lemmatize(word) for word in x])"
   ]
  },
  {
   "cell_type": "code",
   "execution_count": 6,
   "id": "7acf8ba3",
   "metadata": {},
   "outputs": [],
   "source": [
    "imdb_data[\"Overview_length_words\"] = imdb_data[\"Overview_processed\"].apply(len)\n",
    "imdb_data[\"Overview_length_chars\"] = imdb_data[\"Overview_processed\"].apply(lambda x: sum(len(word) for word in x))"
   ]
  },
  {
   "cell_type": "code",
   "execution_count": 7,
   "id": "fd7ae82c",
   "metadata": {},
   "outputs": [
    {
     "data": {
      "text/html": [
       "<div>\n",
       "<style scoped>\n",
       "    .dataframe tbody tr th:only-of-type {\n",
       "        vertical-align: middle;\n",
       "    }\n",
       "\n",
       "    .dataframe tbody tr th {\n",
       "        vertical-align: top;\n",
       "    }\n",
       "\n",
       "    .dataframe thead th {\n",
       "        text-align: right;\n",
       "    }\n",
       "</style>\n",
       "<table border=\"1\" class=\"dataframe\">\n",
       "  <thead>\n",
       "    <tr style=\"text-align: right;\">\n",
       "      <th></th>\n",
       "      <th>Released_Year</th>\n",
       "      <th>Runtime</th>\n",
       "      <th>IMDB_Rating</th>\n",
       "      <th>Meta_score</th>\n",
       "      <th>No_of_Votes</th>\n",
       "      <th>Gross</th>\n",
       "      <th>Overview_length_words</th>\n",
       "      <th>Overview_length_chars</th>\n",
       "    </tr>\n",
       "  </thead>\n",
       "  <tbody>\n",
       "    <tr>\n",
       "      <th>count</th>\n",
       "      <td>999</td>\n",
       "      <td>1000.000000</td>\n",
       "      <td>1000.000000</td>\n",
       "      <td>843.000000</td>\n",
       "      <td>1.000000e+03</td>\n",
       "      <td>8.310000e+02</td>\n",
       "      <td>1000.000000</td>\n",
       "      <td>1000.000000</td>\n",
       "    </tr>\n",
       "    <tr>\n",
       "      <th>mean</th>\n",
       "      <td>1991-03-21 11:00:10.810810880</td>\n",
       "      <td>122.891000</td>\n",
       "      <td>7.949300</td>\n",
       "      <td>77.971530</td>\n",
       "      <td>2.736929e+05</td>\n",
       "      <td>6.803475e+07</td>\n",
       "      <td>13.945000</td>\n",
       "      <td>85.149000</td>\n",
       "    </tr>\n",
       "    <tr>\n",
       "      <th>min</th>\n",
       "      <td>1920-01-01 00:00:00</td>\n",
       "      <td>45.000000</td>\n",
       "      <td>7.600000</td>\n",
       "      <td>28.000000</td>\n",
       "      <td>2.508800e+04</td>\n",
       "      <td>1.305000e+03</td>\n",
       "      <td>4.000000</td>\n",
       "      <td>22.000000</td>\n",
       "    </tr>\n",
       "    <tr>\n",
       "      <th>25%</th>\n",
       "      <td>1976-01-01 00:00:00</td>\n",
       "      <td>103.000000</td>\n",
       "      <td>7.700000</td>\n",
       "      <td>70.000000</td>\n",
       "      <td>5.552625e+04</td>\n",
       "      <td>3.253559e+06</td>\n",
       "      <td>11.000000</td>\n",
       "      <td>67.000000</td>\n",
       "    </tr>\n",
       "    <tr>\n",
       "      <th>50%</th>\n",
       "      <td>1999-01-01 00:00:00</td>\n",
       "      <td>119.000000</td>\n",
       "      <td>7.900000</td>\n",
       "      <td>79.000000</td>\n",
       "      <td>1.385485e+05</td>\n",
       "      <td>2.353089e+07</td>\n",
       "      <td>13.000000</td>\n",
       "      <td>83.000000</td>\n",
       "    </tr>\n",
       "    <tr>\n",
       "      <th>75%</th>\n",
       "      <td>2009-01-01 00:00:00</td>\n",
       "      <td>137.000000</td>\n",
       "      <td>8.100000</td>\n",
       "      <td>87.000000</td>\n",
       "      <td>3.741612e+05</td>\n",
       "      <td>8.075089e+07</td>\n",
       "      <td>16.000000</td>\n",
       "      <td>100.000000</td>\n",
       "    </tr>\n",
       "    <tr>\n",
       "      <th>max</th>\n",
       "      <td>2020-01-01 00:00:00</td>\n",
       "      <td>321.000000</td>\n",
       "      <td>9.300000</td>\n",
       "      <td>100.000000</td>\n",
       "      <td>2.343110e+06</td>\n",
       "      <td>9.366622e+08</td>\n",
       "      <td>33.000000</td>\n",
       "      <td>192.000000</td>\n",
       "    </tr>\n",
       "    <tr>\n",
       "      <th>std</th>\n",
       "      <td>NaN</td>\n",
       "      <td>28.093671</td>\n",
       "      <td>0.275491</td>\n",
       "      <td>12.376099</td>\n",
       "      <td>3.273727e+05</td>\n",
       "      <td>1.097500e+08</td>\n",
       "      <td>4.256065</td>\n",
       "      <td>25.684674</td>\n",
       "    </tr>\n",
       "  </tbody>\n",
       "</table>\n",
       "</div>"
      ],
      "text/plain": [
       "                       Released_Year      Runtime  IMDB_Rating  Meta_score  \\\n",
       "count                            999  1000.000000  1000.000000  843.000000   \n",
       "mean   1991-03-21 11:00:10.810810880   122.891000     7.949300   77.971530   \n",
       "min              1920-01-01 00:00:00    45.000000     7.600000   28.000000   \n",
       "25%              1976-01-01 00:00:00   103.000000     7.700000   70.000000   \n",
       "50%              1999-01-01 00:00:00   119.000000     7.900000   79.000000   \n",
       "75%              2009-01-01 00:00:00   137.000000     8.100000   87.000000   \n",
       "max              2020-01-01 00:00:00   321.000000     9.300000  100.000000   \n",
       "std                              NaN    28.093671     0.275491   12.376099   \n",
       "\n",
       "        No_of_Votes         Gross  Overview_length_words  \\\n",
       "count  1.000000e+03  8.310000e+02            1000.000000   \n",
       "mean   2.736929e+05  6.803475e+07              13.945000   \n",
       "min    2.508800e+04  1.305000e+03               4.000000   \n",
       "25%    5.552625e+04  3.253559e+06              11.000000   \n",
       "50%    1.385485e+05  2.353089e+07              13.000000   \n",
       "75%    3.741612e+05  8.075089e+07              16.000000   \n",
       "max    2.343110e+06  9.366622e+08              33.000000   \n",
       "std    3.273727e+05  1.097500e+08               4.256065   \n",
       "\n",
       "       Overview_length_chars  \n",
       "count            1000.000000  \n",
       "mean               85.149000  \n",
       "min                22.000000  \n",
       "25%                67.000000  \n",
       "50%                83.000000  \n",
       "75%               100.000000  \n",
       "max               192.000000  \n",
       "std                25.684674  "
      ]
     },
     "execution_count": 7,
     "metadata": {},
     "output_type": "execute_result"
    }
   ],
   "source": [
    "imdb_data.describe()"
   ]
  },
  {
   "cell_type": "code",
   "execution_count": 8,
   "id": "bd479bf0",
   "metadata": {},
   "outputs": [
    {
     "data": {
      "text/plain": [
       "<Axes: >"
      ]
     },
     "execution_count": 8,
     "metadata": {},
     "output_type": "execute_result"
    },
    {
     "data": {
      "image/png": "[encoded data removed]",
      "text/plain": [
       "<Figure size 640x480 with 1 Axes>"
      ]
     },
     "metadata": {},
     "output_type": "display_data"
    }
   ],
   "source": [
    "imdb_data[\"Overview_length_words\"].hist(bins=30)"
   ]
  },
  {
   "cell_type": "code",
   "execution_count": 9,
   "id": "12faa8e9",
   "metadata": {},
   "outputs": [
    {
     "data": {
      "text/plain": [
       "<Axes: >"
      ]
     },
     "execution_count": 9,
     "metadata": {},
     "output_type": "execute_result"
    },
    {
     "data": {
      "image/png": "[encoded data removed]",
      "text/plain": [
       "<Figure size 640x480 with 1 Axes>"
      ]
     },
     "metadata": {},
     "output_type": "display_data"
    }
   ],
   "source": [
    "imdb_data[\"Overview_length_chars\"].hist(bins=30)"
   ]
  },
  {
   "cell_type": "code",
   "execution_count": null,
   "id": "2911e225",
   "metadata": {},
   "outputs": [],
   "source": []
  }
 ],
 "metadata": {
  "kernelspec": {
   "display_name": "nlp_env",
   "language": "python",
   "name": "python3"
  },
  "language_info": {
   "codemirror_mode": {
    "name": "ipython",
    "version": 3
   },
   "file_extension": ".py",
   "mimetype": "text/x-python",
   "name": "python",
   "nbconvert_exporter": "python",
   "pygments_lexer": "ipython3",
   "version": "3.12.7"
  }
 },
 "nbformat": 4,
 "nbformat_minor": 5
}
